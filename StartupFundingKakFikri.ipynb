{
 "cells": [
  {
   "cell_type": "code",
   "execution_count": 1,
   "metadata": {},
   "outputs": [],
   "source": [
    "import pandas as pd\n",
    "df = pd.read_csv('startup_funding.csv')"
   ]
  },
  {
   "cell_type": "code",
   "execution_count": 2,
   "metadata": {},
   "outputs": [
    {
     "name": "stdout",
     "output_type": "stream",
     "text": [
      "<class 'pandas.core.frame.DataFrame'>\n",
      "RangeIndex: 3009 entries, 0 to 3008\n",
      "Data columns (total 10 columns):\n",
      "Sr No                      3009 non-null int64\n",
      "Date ddmmyyyy              3009 non-null object\n",
      "Startup Name               3009 non-null object\n",
      "Industry Vertical          2838 non-null object\n",
      "SubVertical                2073 non-null object\n",
      "City  Location             2829 non-null object\n",
      "Investorsxe2x80x99 Name    2986 non-null object\n",
      "InvestmentnType            3006 non-null object\n",
      "Amount in USD              2049 non-null object\n",
      "Remarks                    419 non-null object\n",
      "dtypes: int64(1), object(9)\n",
      "memory usage: 235.2+ KB\n"
     ]
    }
   ],
   "source": [
    "df.info()"
   ]
  },
  {
   "cell_type": "markdown",
   "metadata": {},
   "source": [
    "### Buat DataFrame yang mendeskripsikan Tiap Tiap kolom dari data Startup Funding"
   ]
  },
  {
   "cell_type": "code",
   "execution_count": 3,
   "metadata": {},
   "outputs": [],
   "source": [
    "def column_desc(df):\n",
    "    data = []\n",
    "    for item in df.columns:\n",
    "        temp = []\n",
    "        temp.append(item)\n",
    "        temp.append(str(df[item].dtype))\n",
    "        temp.append(df[item].isnull().sum())\n",
    "        temp.append(int(round(df[item].isnull().sum() / len(df) *100)))\n",
    "        temp.append(df[item].nunique())\n",
    "        temp.append(list(df[item].value_counts().index[0:2]))\n",
    "        data.append(temp)\n",
    "    return pd.DataFrame(data,columns=['DataFeature','TypeData','Null','NullPercent','Unique','Sample'])"
   ]
  },
  {
   "cell_type": "code",
   "execution_count": 4,
   "metadata": {},
   "outputs": [],
   "source": [
    "df = pd.read_csv('startup_funding.csv')"
   ]
  },
  {
   "cell_type": "code",
   "execution_count": 5,
   "metadata": {},
   "outputs": [
    {
     "data": {
      "text/html": [
       "<div>\n",
       "<style scoped>\n",
       "    .dataframe tbody tr th:only-of-type {\n",
       "        vertical-align: middle;\n",
       "    }\n",
       "\n",
       "    .dataframe tbody tr th {\n",
       "        vertical-align: top;\n",
       "    }\n",
       "\n",
       "    .dataframe thead th {\n",
       "        text-align: right;\n",
       "    }\n",
       "</style>\n",
       "<table border=\"1\" class=\"dataframe\">\n",
       "  <thead>\n",
       "    <tr style=\"text-align: right;\">\n",
       "      <th></th>\n",
       "      <th>DataFeature</th>\n",
       "      <th>TypeData</th>\n",
       "      <th>Null</th>\n",
       "      <th>NullPercent</th>\n",
       "      <th>Unique</th>\n",
       "      <th>Sample</th>\n",
       "    </tr>\n",
       "  </thead>\n",
       "  <tbody>\n",
       "    <tr>\n",
       "      <th>0</th>\n",
       "      <td>Sr No</td>\n",
       "      <td>int64</td>\n",
       "      <td>0</td>\n",
       "      <td>0</td>\n",
       "      <td>3009</td>\n",
       "      <td>[2047, 1014]</td>\n",
       "    </tr>\n",
       "    <tr>\n",
       "      <th>1</th>\n",
       "      <td>Date ddmmyyyy</td>\n",
       "      <td>object</td>\n",
       "      <td>0</td>\n",
       "      <td>0</td>\n",
       "      <td>1013</td>\n",
       "      <td>[02/02/2015, 30/11/2016]</td>\n",
       "    </tr>\n",
       "    <tr>\n",
       "      <th>2</th>\n",
       "      <td>Startup Name</td>\n",
       "      <td>object</td>\n",
       "      <td>0</td>\n",
       "      <td>0</td>\n",
       "      <td>2439</td>\n",
       "      <td>[Ola Cabs, Swiggy]</td>\n",
       "    </tr>\n",
       "    <tr>\n",
       "      <th>3</th>\n",
       "      <td>Industry Vertical</td>\n",
       "      <td>object</td>\n",
       "      <td>171</td>\n",
       "      <td>6</td>\n",
       "      <td>811</td>\n",
       "      <td>[Consumer Internet, Technology]</td>\n",
       "    </tr>\n",
       "    <tr>\n",
       "      <th>4</th>\n",
       "      <td>SubVertical</td>\n",
       "      <td>object</td>\n",
       "      <td>936</td>\n",
       "      <td>31</td>\n",
       "      <td>1912</td>\n",
       "      <td>[Online Lending Platform, Online Pharmacy]</td>\n",
       "    </tr>\n",
       "    <tr>\n",
       "      <th>5</th>\n",
       "      <td>City  Location</td>\n",
       "      <td>object</td>\n",
       "      <td>180</td>\n",
       "      <td>6</td>\n",
       "      <td>109</td>\n",
       "      <td>[Bangalore, Mumbai]</td>\n",
       "    </tr>\n",
       "    <tr>\n",
       "      <th>6</th>\n",
       "      <td>Investorsxe2x80x99 Name</td>\n",
       "      <td>object</td>\n",
       "      <td>23</td>\n",
       "      <td>1</td>\n",
       "      <td>2385</td>\n",
       "      <td>[Undisclosed Investors, Undisclosed investors]</td>\n",
       "    </tr>\n",
       "    <tr>\n",
       "      <th>7</th>\n",
       "      <td>InvestmentnType</td>\n",
       "      <td>object</td>\n",
       "      <td>3</td>\n",
       "      <td>0</td>\n",
       "      <td>50</td>\n",
       "      <td>[Private Equity, Seed Funding]</td>\n",
       "    </tr>\n",
       "    <tr>\n",
       "      <th>8</th>\n",
       "      <td>Amount in USD</td>\n",
       "      <td>object</td>\n",
       "      <td>960</td>\n",
       "      <td>32</td>\n",
       "      <td>500</td>\n",
       "      <td>[1,000,000, 500,000]</td>\n",
       "    </tr>\n",
       "    <tr>\n",
       "      <th>9</th>\n",
       "      <td>Remarks</td>\n",
       "      <td>object</td>\n",
       "      <td>2590</td>\n",
       "      <td>86</td>\n",
       "      <td>72</td>\n",
       "      <td>[Series A, Series B]</td>\n",
       "    </tr>\n",
       "  </tbody>\n",
       "</table>\n",
       "</div>"
      ],
      "text/plain": [
       "               DataFeature TypeData  Null  NullPercent  Unique  \\\n",
       "0                    Sr No    int64     0            0    3009   \n",
       "1            Date ddmmyyyy   object     0            0    1013   \n",
       "2             Startup Name   object     0            0    2439   \n",
       "3        Industry Vertical   object   171            6     811   \n",
       "4              SubVertical   object   936           31    1912   \n",
       "5           City  Location   object   180            6     109   \n",
       "6  Investorsxe2x80x99 Name   object    23            1    2385   \n",
       "7          InvestmentnType   object     3            0      50   \n",
       "8            Amount in USD   object   960           32     500   \n",
       "9                  Remarks   object  2590           86      72   \n",
       "\n",
       "                                           Sample  \n",
       "0                                    [2047, 1014]  \n",
       "1                        [02/02/2015, 30/11/2016]  \n",
       "2                              [Ola Cabs, Swiggy]  \n",
       "3                 [Consumer Internet, Technology]  \n",
       "4      [Online Lending Platform, Online Pharmacy]  \n",
       "5                             [Bangalore, Mumbai]  \n",
       "6  [Undisclosed Investors, Undisclosed investors]  \n",
       "7                  [Private Equity, Seed Funding]  \n",
       "8                            [1,000,000, 500,000]  \n",
       "9                            [Series A, Series B]  "
      ]
     },
     "execution_count": 5,
     "metadata": {},
     "output_type": "execute_result"
    }
   ],
   "source": [
    "column_desc(df)"
   ]
  },
  {
   "cell_type": "code",
   "execution_count": null,
   "metadata": {},
   "outputs": [],
   "source": []
  },
  {
   "cell_type": "code",
   "execution_count": null,
   "metadata": {},
   "outputs": [],
   "source": []
  },
  {
   "cell_type": "code",
   "execution_count": null,
   "metadata": {},
   "outputs": [],
   "source": []
  },
  {
   "cell_type": "code",
   "execution_count": 6,
   "metadata": {},
   "outputs": [
    {
     "data": {
      "text/plain": [
       "['Ola Cabs', 'Swiggy']"
      ]
     },
     "execution_count": 6,
     "metadata": {},
     "output_type": "execute_result"
    }
   ],
   "source": [
    "list(df['Startup Name'].value_counts().index[0:2])"
   ]
  },
  {
   "cell_type": "code",
   "execution_count": null,
   "metadata": {},
   "outputs": [],
   "source": []
  },
  {
   "cell_type": "markdown",
   "metadata": {},
   "source": [
    "### Hapus Kolom Remarks"
   ]
  },
  {
   "cell_type": "code",
   "execution_count": 7,
   "metadata": {},
   "outputs": [],
   "source": [
    "df.drop('Remarks' , axis=1,inplace=True)"
   ]
  },
  {
   "cell_type": "markdown",
   "metadata": {},
   "source": [
    "### Hapus data yang kolom Industry Vertical dan Subverticalnya Kosong"
   ]
  },
  {
   "cell_type": "code",
   "execution_count": 8,
   "metadata": {},
   "outputs": [],
   "source": [
    "df.dropna(subset=['Industry Vertical' , 'SubVertical'] , how='all',inplace=True)"
   ]
  },
  {
   "cell_type": "code",
   "execution_count": null,
   "metadata": {},
   "outputs": [],
   "source": []
  },
  {
   "cell_type": "code",
   "execution_count": null,
   "metadata": {},
   "outputs": [],
   "source": []
  },
  {
   "cell_type": "markdown",
   "metadata": {},
   "source": [
    "### Hapus data yang Investorsxe2x80x99 Name atau InvestmentnType kosong atau City Location nya Kosong atau amount in usd nya kosong"
   ]
  },
  {
   "cell_type": "code",
   "execution_count": 9,
   "metadata": {},
   "outputs": [],
   "source": [
    "df.dropna(subset=['Investorsxe2x80x99 Name','InvestmentnType','City  Location','Amount in USD'],how='any',inplace=True)"
   ]
  },
  {
   "cell_type": "code",
   "execution_count": null,
   "metadata": {},
   "outputs": [],
   "source": []
  },
  {
   "cell_type": "markdown",
   "metadata": {},
   "source": [
    "### Ubah Nama Kolom Investorsxe2x80x99 Name menjadi Investor"
   ]
  },
  {
   "cell_type": "code",
   "execution_count": 10,
   "metadata": {},
   "outputs": [],
   "source": [
    "df.rename({'Investorsxe2x80x99 Name' : 'Investor'},axis=1,inplace=True)"
   ]
  },
  {
   "cell_type": "code",
   "execution_count": null,
   "metadata": {},
   "outputs": [],
   "source": []
  },
  {
   "cell_type": "markdown",
   "metadata": {},
   "source": [
    "### Isi Kolom Subvertical yang kosong dengan kolom Industry Verticalnya"
   ]
  },
  {
   "cell_type": "code",
   "execution_count": 11,
   "metadata": {},
   "outputs": [],
   "source": [
    "def apply_sub_ind(x):\n",
    "    if( pd.isna(x['SubVertical'])):\n",
    "        return x['Industry Vertical']\n",
    "    else:\n",
    "        return x['SubVertical']"
   ]
  },
  {
   "cell_type": "code",
   "execution_count": 12,
   "metadata": {},
   "outputs": [],
   "source": [
    "df['SubVertical'] = df[['SubVertical','Industry Vertical']].apply(apply_sub_ind,axis=1)"
   ]
  },
  {
   "cell_type": "code",
   "execution_count": 13,
   "metadata": {},
   "outputs": [
    {
     "name": "stdout",
     "output_type": "stream",
     "text": [
      "<class 'pandas.core.frame.DataFrame'>\n",
      "Int64Index: 1893 entries, 0 to 2837\n",
      "Data columns (total 9 columns):\n",
      "Sr No                1893 non-null int64\n",
      "Date ddmmyyyy        1893 non-null object\n",
      "Startup Name         1893 non-null object\n",
      "Industry Vertical    1893 non-null object\n",
      "SubVertical          1893 non-null object\n",
      "City  Location       1893 non-null object\n",
      "Investor             1893 non-null object\n",
      "InvestmentnType      1893 non-null object\n",
      "Amount in USD        1893 non-null object\n",
      "dtypes: int64(1), object(8)\n",
      "memory usage: 147.9+ KB\n"
     ]
    }
   ],
   "source": [
    "df.info()"
   ]
  },
  {
   "cell_type": "code",
   "execution_count": null,
   "metadata": {},
   "outputs": [],
   "source": []
  },
  {
   "cell_type": "markdown",
   "metadata": {},
   "source": [
    "### Hapus data dengan kolom Amount in USD Mengandung Alphabet"
   ]
  },
  {
   "cell_type": "code",
   "execution_count": 14,
   "metadata": {},
   "outputs": [],
   "source": [
    "def delete_alpha(x):\n",
    "    return x.replace(',','')"
   ]
  },
  {
   "cell_type": "code",
   "execution_count": 15,
   "metadata": {},
   "outputs": [],
   "source": [
    "df['Amount in USD'] = df['Amount in USD'].apply(delete_alpha)"
   ]
  },
  {
   "cell_type": "code",
   "execution_count": 16,
   "metadata": {},
   "outputs": [],
   "source": [
    "df.drop(df[(df['Amount in USD'] == 'Undisclosed') | (df['Amount in USD'] == 'undisclosed')].index,inplace=True)"
   ]
  },
  {
   "cell_type": "code",
   "execution_count": 22,
   "metadata": {},
   "outputs": [],
   "source": [
    "df.drop( df[df['Amount in USD'].str.contains('x')].index ,inplace=True)"
   ]
  },
  {
   "cell_type": "code",
   "execution_count": null,
   "metadata": {},
   "outputs": [],
   "source": []
  },
  {
   "cell_type": "code",
   "execution_count": null,
   "metadata": {},
   "outputs": [],
   "source": []
  },
  {
   "cell_type": "code",
   "execution_count": null,
   "metadata": {},
   "outputs": [],
   "source": []
  },
  {
   "cell_type": "code",
   "execution_count": 17,
   "metadata": {},
   "outputs": [
    {
     "data": {
      "text/plain": [
       "Index(['Date ddmmyyyy', 'Startup Name', 'Industry Vertical', 'SubVertical',\n",
       "       'City  Location', 'Investor', 'InvestmentnType', 'Amount in USD'],\n",
       "      dtype='object')"
      ]
     },
     "execution_count": 17,
     "metadata": {},
     "output_type": "execute_result"
    }
   ],
   "source": [
    "df.columns[1:]"
   ]
  },
  {
   "cell_type": "code",
   "execution_count": null,
   "metadata": {},
   "outputs": [],
   "source": []
  },
  {
   "cell_type": "code",
   "execution_count": 23,
   "metadata": {},
   "outputs": [
    {
     "data": {
      "text/html": [
       "<div>\n",
       "<style scoped>\n",
       "    .dataframe tbody tr th:only-of-type {\n",
       "        vertical-align: middle;\n",
       "    }\n",
       "\n",
       "    .dataframe tbody tr th {\n",
       "        vertical-align: top;\n",
       "    }\n",
       "\n",
       "    .dataframe thead th {\n",
       "        text-align: right;\n",
       "    }\n",
       "</style>\n",
       "<table border=\"1\" class=\"dataframe\">\n",
       "  <thead>\n",
       "    <tr style=\"text-align: right;\">\n",
       "      <th></th>\n",
       "      <th>Sr No</th>\n",
       "      <th>Date ddmmyyyy</th>\n",
       "      <th>Startup Name</th>\n",
       "      <th>Industry Vertical</th>\n",
       "      <th>SubVertical</th>\n",
       "      <th>City  Location</th>\n",
       "      <th>Investor</th>\n",
       "      <th>InvestmentnType</th>\n",
       "      <th>Amount in USD</th>\n",
       "    </tr>\n",
       "  </thead>\n",
       "  <tbody>\n",
       "  </tbody>\n",
       "</table>\n",
       "</div>"
      ],
      "text/plain": [
       "Empty DataFrame\n",
       "Columns: [Sr No, Date ddmmyyyy, Startup Name, Industry Vertical, SubVertical, City  Location, Investor, InvestmentnType, Amount in USD]\n",
       "Index: []"
      ]
     },
     "execution_count": 23,
     "metadata": {},
     "output_type": "execute_result"
    }
   ],
   "source": [
    "df[df['Amount in USD'] =='N/A']"
   ]
  },
  {
   "cell_type": "markdown",
   "metadata": {},
   "source": [
    "### Ubah type data kolom Amount in USD Menjadi int64 , ubah dulu semua koma di data menjadi string kosong dan ubah juga selain angka menjadi string kosong"
   ]
  },
  {
   "cell_type": "code",
   "execution_count": 32,
   "metadata": {},
   "outputs": [],
   "source": [
    "df['Amount in USD'] =df['Amount in USD'].apply(lambda x : x.replace('+',''))"
   ]
  },
  {
   "cell_type": "code",
   "execution_count": 34,
   "metadata": {},
   "outputs": [],
   "source": [
    "df['Amount in USD'] =df['Amount in USD'].apply(lambda x : x.replace('.00',''))"
   ]
  },
  {
   "cell_type": "code",
   "execution_count": 36,
   "metadata": {},
   "outputs": [],
   "source": [
    "df['Amount in USD'] = df['Amount in USD'].astype('int64')"
   ]
  },
  {
   "cell_type": "code",
   "execution_count": null,
   "metadata": {},
   "outputs": [],
   "source": []
  },
  {
   "cell_type": "code",
   "execution_count": null,
   "metadata": {},
   "outputs": [],
   "source": []
  },
  {
   "cell_type": "markdown",
   "metadata": {},
   "source": [
    "### Cari Lima Startup Yang Mendapat Pendanaan Paling Banyak"
   ]
  },
  {
   "cell_type": "code",
   "execution_count": 46,
   "metadata": {},
   "outputs": [
    {
     "data": {
      "text/html": [
       "<div>\n",
       "<style scoped>\n",
       "    .dataframe tbody tr th:only-of-type {\n",
       "        vertical-align: middle;\n",
       "    }\n",
       "\n",
       "    .dataframe tbody tr th {\n",
       "        vertical-align: top;\n",
       "    }\n",
       "\n",
       "    .dataframe thead th {\n",
       "        text-align: right;\n",
       "    }\n",
       "</style>\n",
       "<table border=\"1\" class=\"dataframe\">\n",
       "  <thead>\n",
       "    <tr style=\"text-align: right;\">\n",
       "      <th></th>\n",
       "      <th>Startup Name</th>\n",
       "      <th>Amount in USD</th>\n",
       "      <th>Investor</th>\n",
       "    </tr>\n",
       "  </thead>\n",
       "  <tbody>\n",
       "    <tr>\n",
       "      <th>25</th>\n",
       "      <td>Rapido Bike Taxi</td>\n",
       "      <td>3900000000</td>\n",
       "      <td>Westbridge Capital</td>\n",
       "    </tr>\n",
       "    <tr>\n",
       "      <th>616</th>\n",
       "      <td>Flipkart</td>\n",
       "      <td>2500000000</td>\n",
       "      <td>Softbank</td>\n",
       "    </tr>\n",
       "    <tr>\n",
       "      <th>795</th>\n",
       "      <td>Paytm</td>\n",
       "      <td>1400000000</td>\n",
       "      <td>SoftBank Group</td>\n",
       "    </tr>\n",
       "    <tr>\n",
       "      <th>931</th>\n",
       "      <td>Flipkart</td>\n",
       "      <td>1400000000</td>\n",
       "      <td>Microsoft, eBay, Tencent Holdings</td>\n",
       "    </tr>\n",
       "    <tr>\n",
       "      <th>2613</th>\n",
       "      <td>Flipkart.com</td>\n",
       "      <td>700000000</td>\n",
       "      <td>Steadview Capital and existing investors</td>\n",
       "    </tr>\n",
       "  </tbody>\n",
       "</table>\n",
       "</div>"
      ],
      "text/plain": [
       "          Startup Name  Amount in USD  \\\n",
       "25    Rapido Bike Taxi     3900000000   \n",
       "616           Flipkart     2500000000   \n",
       "795              Paytm     1400000000   \n",
       "931           Flipkart     1400000000   \n",
       "2613      Flipkart.com      700000000   \n",
       "\n",
       "                                      Investor  \n",
       "25                          Westbridge Capital  \n",
       "616                                   Softbank  \n",
       "795                             SoftBank Group  \n",
       "931          Microsoft, eBay, Tencent Holdings  \n",
       "2613  Steadview Capital and existing investors  "
      ]
     },
     "execution_count": 46,
     "metadata": {},
     "output_type": "execute_result"
    }
   ],
   "source": [
    "df.sort_values(by=['Amount in USD'],ascending=False)[['Startup Name','Amount in USD','Investor']].head()"
   ]
  },
  {
   "cell_type": "code",
   "execution_count": 40,
   "metadata": {},
   "outputs": [
    {
     "data": {
      "text/html": [
       "<div>\n",
       "<style scoped>\n",
       "    .dataframe tbody tr th:only-of-type {\n",
       "        vertical-align: middle;\n",
       "    }\n",
       "\n",
       "    .dataframe tbody tr th {\n",
       "        vertical-align: top;\n",
       "    }\n",
       "\n",
       "    .dataframe thead th {\n",
       "        text-align: right;\n",
       "    }\n",
       "</style>\n",
       "<table border=\"1\" class=\"dataframe\">\n",
       "  <thead>\n",
       "    <tr style=\"text-align: right;\">\n",
       "      <th></th>\n",
       "      <th>Sr No</th>\n",
       "      <th>Amount in USD</th>\n",
       "    </tr>\n",
       "    <tr>\n",
       "      <th>Startup Name</th>\n",
       "      <th></th>\n",
       "      <th></th>\n",
       "    </tr>\n",
       "  </thead>\n",
       "  <tbody>\n",
       "    <tr>\n",
       "      <th>Flipkart</th>\n",
       "      <td>6007</td>\n",
       "      <td>4059700000</td>\n",
       "    </tr>\n",
       "    <tr>\n",
       "      <th>Rapido Bike Taxi</th>\n",
       "      <td>26</td>\n",
       "      <td>3900000000</td>\n",
       "    </tr>\n",
       "    <tr>\n",
       "      <th>Paytm</th>\n",
       "      <td>4959</td>\n",
       "      <td>2148950000</td>\n",
       "    </tr>\n",
       "    <tr>\n",
       "      <th>Ola</th>\n",
       "      <td>4618</td>\n",
       "      <td>984500000</td>\n",
       "    </tr>\n",
       "    <tr>\n",
       "      <th>Flipkart.com</th>\n",
       "      <td>2654</td>\n",
       "      <td>700000000</td>\n",
       "    </tr>\n",
       "  </tbody>\n",
       "</table>\n",
       "</div>"
      ],
      "text/plain": [
       "                  Sr No  Amount in USD\n",
       "Startup Name                          \n",
       "Flipkart           6007     4059700000\n",
       "Rapido Bike Taxi     26     3900000000\n",
       "Paytm              4959     2148950000\n",
       "Ola                4618      984500000\n",
       "Flipkart.com       2654      700000000"
      ]
     },
     "execution_count": 40,
     "metadata": {},
     "output_type": "execute_result"
    }
   ],
   "source": [
    "df.groupby('Startup Name').sum().sort_values(by=['Amount in USD'],ascending=False).head()"
   ]
  },
  {
   "cell_type": "markdown",
   "metadata": {},
   "source": [
    "### Cari Lima Investor Yang mengeluarkan uang paling banyak"
   ]
  },
  {
   "cell_type": "code",
   "execution_count": 47,
   "metadata": {},
   "outputs": [
    {
     "data": {
      "text/html": [
       "<div>\n",
       "<style scoped>\n",
       "    .dataframe tbody tr th:only-of-type {\n",
       "        vertical-align: middle;\n",
       "    }\n",
       "\n",
       "    .dataframe tbody tr th {\n",
       "        vertical-align: top;\n",
       "    }\n",
       "\n",
       "    .dataframe thead th {\n",
       "        text-align: right;\n",
       "    }\n",
       "</style>\n",
       "<table border=\"1\" class=\"dataframe\">\n",
       "  <thead>\n",
       "    <tr style=\"text-align: right;\">\n",
       "      <th></th>\n",
       "      <th>Sr No</th>\n",
       "      <th>Amount in USD</th>\n",
       "    </tr>\n",
       "    <tr>\n",
       "      <th>Investor</th>\n",
       "      <th></th>\n",
       "      <th></th>\n",
       "    </tr>\n",
       "  </thead>\n",
       "  <tbody>\n",
       "    <tr>\n",
       "      <th>Westbridge Capital</th>\n",
       "      <td>26</td>\n",
       "      <td>3900000000</td>\n",
       "    </tr>\n",
       "    <tr>\n",
       "      <th>Softbank</th>\n",
       "      <td>618</td>\n",
       "      <td>2500000000</td>\n",
       "    </tr>\n",
       "    <tr>\n",
       "      <th>SoftBank Group</th>\n",
       "      <td>2234</td>\n",
       "      <td>1462000000</td>\n",
       "    </tr>\n",
       "    <tr>\n",
       "      <th>Microsoft, eBay, Tencent Holdings</th>\n",
       "      <td>940</td>\n",
       "      <td>1400000000</td>\n",
       "    </tr>\n",
       "    <tr>\n",
       "      <th>Steadview Capital and existing investors</th>\n",
       "      <td>2654</td>\n",
       "      <td>700000000</td>\n",
       "    </tr>\n",
       "  </tbody>\n",
       "</table>\n",
       "</div>"
      ],
      "text/plain": [
       "                                          Sr No  Amount in USD\n",
       "Investor                                                      \n",
       "Westbridge Capital                           26     3900000000\n",
       "Softbank                                    618     2500000000\n",
       "SoftBank Group                             2234     1462000000\n",
       "Microsoft, eBay, Tencent Holdings           940     1400000000\n",
       "Steadview Capital and existing investors   2654      700000000"
      ]
     },
     "execution_count": 47,
     "metadata": {},
     "output_type": "execute_result"
    }
   ],
   "source": [
    "df.groupby('Investor').sum().sort_values(by=['Amount in USD'],ascending=False).head()"
   ]
  },
  {
   "cell_type": "markdown",
   "metadata": {},
   "source": [
    "### Cari lima industri Vertical dengan Pendanaan Paling Banyak"
   ]
  },
  {
   "cell_type": "code",
   "execution_count": 49,
   "metadata": {},
   "outputs": [
    {
     "data": {
      "text/html": [
       "<div>\n",
       "<style scoped>\n",
       "    .dataframe tbody tr th:only-of-type {\n",
       "        vertical-align: middle;\n",
       "    }\n",
       "\n",
       "    .dataframe tbody tr th {\n",
       "        vertical-align: top;\n",
       "    }\n",
       "\n",
       "    .dataframe thead th {\n",
       "        text-align: right;\n",
       "    }\n",
       "</style>\n",
       "<table border=\"1\" class=\"dataframe\">\n",
       "  <thead>\n",
       "    <tr style=\"text-align: right;\">\n",
       "      <th></th>\n",
       "      <th>Sr No</th>\n",
       "      <th>Amount in USD</th>\n",
       "    </tr>\n",
       "    <tr>\n",
       "      <th>Industry Vertical</th>\n",
       "      <th></th>\n",
       "      <th></th>\n",
       "    </tr>\n",
       "  </thead>\n",
       "  <tbody>\n",
       "    <tr>\n",
       "      <th>Consumer Internet</th>\n",
       "      <td>664222</td>\n",
       "      <td>6248891934</td>\n",
       "    </tr>\n",
       "    <tr>\n",
       "      <th>eCommerce</th>\n",
       "      <td>155252</td>\n",
       "      <td>5002533000</td>\n",
       "    </tr>\n",
       "    <tr>\n",
       "      <th>Transportation</th>\n",
       "      <td>155</td>\n",
       "      <td>3908584000</td>\n",
       "    </tr>\n",
       "    <tr>\n",
       "      <th>Technology</th>\n",
       "      <td>291098</td>\n",
       "      <td>2203457930</td>\n",
       "    </tr>\n",
       "    <tr>\n",
       "      <th>ECommerce</th>\n",
       "      <td>54427</td>\n",
       "      <td>1878797608</td>\n",
       "    </tr>\n",
       "  </tbody>\n",
       "</table>\n",
       "</div>"
      ],
      "text/plain": [
       "                    Sr No  Amount in USD\n",
       "Industry Vertical                       \n",
       "Consumer Internet  664222     6248891934\n",
       "eCommerce          155252     5002533000\n",
       "Transportation        155     3908584000\n",
       "Technology         291098     2203457930\n",
       "ECommerce           54427     1878797608"
      ]
     },
     "execution_count": 49,
     "metadata": {},
     "output_type": "execute_result"
    }
   ],
   "source": [
    "df.groupby('Industry Vertical').sum().sort_values(by=['Amount in USD'],ascending=False).head()"
   ]
  }
 ],
 "metadata": {
  "kernelspec": {
   "display_name": "Python 3",
   "language": "python",
   "name": "python3"
  },
  "language_info": {
   "codemirror_mode": {
    "name": "ipython",
    "version": 3
   },
   "file_extension": ".py",
   "mimetype": "text/x-python",
   "name": "python",
   "nbconvert_exporter": "python",
   "pygments_lexer": "ipython3",
   "version": "3.7.3"
  }
 },
 "nbformat": 4,
 "nbformat_minor": 2
}
